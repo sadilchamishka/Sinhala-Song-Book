{
  "nbformat": 4,
  "nbformat_minor": 0,
  "metadata": {
    "colab": {
      "name": "Scraping_and_Data_Migration_Scripts.ipynb",
      "provenance": []
    },
    "kernelspec": {
      "name": "python3",
      "display_name": "Python 3"
    }
  },
  "cells": [
    {
      "cell_type": "markdown",
      "metadata": {
        "id": "yupJ59InIIs4",
        "colab_type": "text"
      },
      "source": [
        "# Scraping Lyrics.lk using Scrapy\n",
        "\n"
      ]
    },
    {
      "cell_type": "code",
      "metadata": {
        "id": "vpZHYdIiIPZa",
        "colab_type": "code",
        "colab": {}
      },
      "source": [
        "!pip install Scrapy\n",
        "!scrapy startproject lyrics\n",
        "!scrapy crawl lyrics -o output.json"
      ],
      "execution_count": null,
      "outputs": []
    },
    {
      "cell_type": "markdown",
      "metadata": {
        "id": "0Y9bV39RIUm3",
        "colab_type": "text"
      },
      "source": [
        "# Send documents to elasticsearch instance"
      ]
    },
    {
      "cell_type": "code",
      "metadata": {
        "id": "JZKt7e0yIg7U",
        "colab_type": "code",
        "colab": {}
      },
      "source": [
        "import json \n",
        "import requests\n",
        "\n",
        "f = open('/lyrics/output.json',) \n",
        "\n",
        "data = json.load(f)   \n",
        "f.close()\n",
        "\n",
        "id = 0\n",
        "header = {\"Content-type\": \"application/json\"} \n",
        "\n",
        "for i in data:\n",
        "  r = requests.post(\"http://ec2-100-26-56-20.compute-1.amazonaws.com:9200/sinhala_songs/_doc/\"+str(id), data=json.dumps(i), headers=header)\n",
        "  print(r.status_code, r.reason)\n",
        "  id+=1"
      ],
      "execution_count": null,
      "outputs": []
    },
    {
      "cell_type": "markdown",
      "metadata": {
        "id": "DVWzpuR3Ij1t",
        "colab_type": "text"
      },
      "source": [
        "# Scraping sinhalajukebox website using Selenium automation tool\n"
      ]
    },
    {
      "cell_type": "code",
      "metadata": {
        "id": "2G3IMtOyHs2m",
        "colab_type": "code",
        "colab": {}
      },
      "source": [
        "!pip install selenium\n",
        "!apt-get update # to update ubuntu to correctly run apt install\n",
        "!apt install chromium-chromedriver\n",
        "!cp /usr/lib/chromium-browser/chromedriver /usr/bin\n",
        "import sys\n",
        "sys.path.insert(0,'/usr/lib/chromium-browser/chromedriver')\n",
        "from selenium import webdriver\n",
        "chrome_options = webdriver.ChromeOptions()\n",
        "chrome_options.add_argument('--headless')\n",
        "chrome_options.add_argument('--no-sandbox')\n",
        "chrome_options.add_argument('--disable-dev-shm-usage')\n",
        "wd = webdriver.Chrome('chromedriver',chrome_options=chrome_options)"
      ],
      "execution_count": null,
      "outputs": []
    },
    {
      "cell_type": "code",
      "metadata": {
        "id": "GBuseK_nHvKV",
        "colab_type": "code",
        "colab": {}
      },
      "source": [
        "def getArtists(url):\n",
        "\n",
        "  my_artist_database = []\n",
        "\n",
        "  wd.get(url)\n",
        "  data = wd.find_elements_by_tag_name('a')\n",
        "  start = 0\n",
        "  for item in data:    \n",
        "    text = item.text \n",
        "    data = text.split('\\n')\n",
        "    if len(data)>1:\n",
        "      href = item.get_attribute('href')\n",
        "      my_artist_database.append([text.split('\\n')[0],href])\n",
        "  \n",
        "  return my_artist_database"
      ],
      "execution_count": null,
      "outputs": []
    },
    {
      "cell_type": "code",
      "metadata": {
        "id": "Pc---FcLHw3z",
        "colab_type": "code",
        "colab": {}
      },
      "source": [
        "def scrape_artist(url):\n",
        "  wd.get(url)\n",
        "  data = wd.find_elements_by_tag_name('td')\n",
        "\n",
        "  song_list = []\n",
        "  song = []\n",
        "  counter = 0\n",
        "  ids = [1,3,4]\n",
        "  start = False\n",
        "  for item in data:    \n",
        "    text = item.text \n",
        "    if text==\"0001\":\n",
        "      start = True\n",
        "    \n",
        "    if start:\n",
        "      if counter in ids:\n",
        "        song.append(text)\n",
        "      counter+=1\n",
        "\n",
        "      try:\n",
        "        link = item.find_element_by_tag_name('a')\n",
        "        link = link.get_attribute('href')\n",
        "        if \"/lyrics/\" in link:\n",
        "          song.append(link)\n",
        "          song_list.append(song)\n",
        "          song = []\n",
        "          counter=0\n",
        "      except:\n",
        "        continue\n",
        "  \n",
        "  return song_list"
      ],
      "execution_count": null,
      "outputs": []
    },
    {
      "cell_type": "code",
      "metadata": {
        "id": "xQLbPrnzHy2D",
        "colab_type": "code",
        "colab": {}
      },
      "source": [
        "def get_img(url):\n",
        "  wd.get(url)\n",
        "  data = wd.find_elements_by_tag_name('img')\n",
        "\n",
        "  for d in data:\n",
        "    link = d.get_attribute('src')\n",
        "    if \"/lyrics/\" in link:\n",
        "      return link"
      ],
      "execution_count": null,
      "outputs": []
    },
    {
      "cell_type": "code",
      "metadata": {
        "id": "-Y_H1PWvIA0r",
        "colab_type": "code",
        "colab": {}
      },
      "source": [
        "categories = [[\"classical\",\"http://sinhalajukebox.org/categories/C01.php/\"] ,[\"baila\",\"http://sinhalajukebox.org/categories/C04.php/\"],[\"oldies\",\"http://sinhalajukebox.org/categories/C05.php/\"],[\"cultural\",\"http://sinhalajukebox.org/categories/C08.php/\"],[\"drama\",\"http://sinhalajukebox.org/categories/C09.php/\"],[\"instrumentals\",\"http://sinhalajukebox.org/categories/C06.php/\"],[\"new pop\",\"http://sinhalajukebox.org/categories/C03.php/\"],[\"various\",\"http://sinhalajukebox.org/categories/C07.php/\"] ,[\"english\",\"http://sinhalajukebox.org/categories/C10.php/\"],[\"movie\",\"http://sinhalajukebox.org/categories/C11.php/\"],[\"rap\",\"http://sinhalajukebox.org/categories/C12.php/\"]]\n",
        "\n",
        "for category in categories:\n",
        "  my_artist_database = getArtists(category[1])\n",
        "\n",
        "  my_songs_database = []\n",
        "\n",
        "  for i in my_artist_database:\n",
        "    song = {}\n",
        "    for j in scrape_artist(i[1]):\n",
        "      song['singer'] = i[0]\n",
        "      song['title'] = j[0]\n",
        "      song['lyricist'] = j[1]\n",
        "      song['tune composer'] = j[2]\n",
        "      song['song'] = j[3]\n",
        "      my_songs_database.append(song)\n",
        "      song = {}\n",
        "  \n",
        "  for i in range(len(my_songs_database)):\n",
        "    real_img_url = get_img(my_songs_database[i]['song'])\n",
        "    my_songs_database[i]['song'] = real_img_url\n",
        "\n",
        "  with open('category[0]+'.json', 'w') as f:\n",
        "    json.dump(my_songs_database, f)\n",
        "\n",
        "  print(\"saved \",category[0])"
      ],
      "execution_count": null,
      "outputs": []
    },
    {
      "cell_type": "code",
      "metadata": {
        "id": "YJjcZ9prHGEH",
        "colab_type": "code",
        "colab": {}
      },
      "source": [
        "f = open('baila.json',) \n",
        "\n",
        "data = json.load(f)   \n",
        "f.close()\n",
        "\n",
        "id = 0\n",
        "header = {\"Content-type\": \"application/json\"} \n",
        "\n",
        "for i in data:\n",
        "  r = requests.post(\"http://ec2-100-26-56-20.compute-1.amazonaws.com:9200/sinhala_songs/_doc/\"+str(id), data=json.dumps(i), headers=header)\n",
        "  print(r.status_code, r.reason)\n",
        "  id+=1"
      ],
      "execution_count": null,
      "outputs": []
    }
  ]
}